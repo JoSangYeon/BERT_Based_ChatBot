{
 "cells": [
  {
   "cell_type": "code",
   "execution_count": 1,
   "id": "030d0fe2",
   "metadata": {},
   "outputs": [],
   "source": [
    "import sys\n",
    "import time\n",
    "\n",
    "import matplotlib.pyplot as plt\n",
    "import numpy as np\n",
    "import pandas as pd\n",
    "import torch\n",
    "import torch.nn as nn\n",
    "import torch.nn.functional as F\n",
    "import torch.optim as optim\n",
    "from torch.utils.data import DataLoader, Dataset\n",
    "from torchsummary import summary\n",
    "from tqdm import notebook, tqdm"
   ]
  },
  {
   "cell_type": "code",
   "execution_count": 2,
   "id": "ef4cc95f",
   "metadata": {},
   "outputs": [],
   "source": [
    "class MyAE_512(nn.Module):\n",
    "    def __init__(self):\n",
    "        super(MyAE_512, self).__init__()\n",
    "\n",
    "        self.encoder = nn.Linear(768, 512)\n",
    "        self.decoder = nn.Linear(512, 768)\n",
    "\n",
    "        self.act_fn = nn.ReLU()\n",
    "\n",
    "    def forward(self, x):\n",
    "        x = self.encoder(x)\n",
    "        x = self.act_fn(x)\n",
    "        x = self.decoder(x)\n",
    "        return x\n",
    "\n",
    "    def encode(self, embed):\n",
    "        output = self.encoder(embed)\n",
    "        return output\n",
    "\n",
    "\n",
    "class MyAE_256(nn.Module):\n",
    "    def __init__(self):\n",
    "        super(MyAE_256, self).__init__()\n",
    "\n",
    "        self.encoder = nn.Linear(768, 256)\n",
    "        self.decoder = nn.Linear(256, 768)\n",
    "\n",
    "        self.act_fn = nn.ReLU()\n",
    "\n",
    "    def forward(self, x):\n",
    "        x = self.encoder(x)\n",
    "        x = self.act_fn(x)\n",
    "        x = self.decoder(x)\n",
    "        return x\n",
    "\n",
    "    def encode(self, embed):\n",
    "        output = self.encoder(embed)\n",
    "        return output\n",
    "\n",
    "\n",
    "class MyAE_128(nn.Module):\n",
    "    def __init__(self):\n",
    "        super(MyAE_128, self).__init__()\n",
    "\n",
    "        self.encoder = nn.Linear(768, 128)\n",
    "        self.decoder = nn.Linear(128, 768)\n",
    "\n",
    "        self.act_fn = nn.ReLU()\n",
    "\n",
    "    def forward(self, x):\n",
    "        x = self.encoder(x)\n",
    "        x = self.act_fn(x)\n",
    "        x = self.decoder(x)\n",
    "        return x\n",
    "\n",
    "    def encode(self, embed):\n",
    "        output = self.encoder(embed)\n",
    "        return output\n",
    "\n",
    "\n",
    "class MyAE_64(nn.Module):\n",
    "    def __init__(self):\n",
    "        super(MyAE_64, self).__init__()\n",
    "\n",
    "        self.encoder = nn.Linear(768, 64)\n",
    "        self.decoder = nn.Linear(64, 768)\n",
    "\n",
    "        self.act_fn = nn.ReLU()\n",
    "\n",
    "    def forward(self, x):\n",
    "        x = self.encoder(x)\n",
    "        x = self.act_fn(x)\n",
    "        x = self.decoder(x)\n",
    "        return x\n",
    "\n",
    "    def encode(self, embed):\n",
    "        output = self.encoder(embed)\n",
    "        return output"
   ]
  },
  {
   "cell_type": "code",
   "execution_count": 3,
   "id": "ad38de1e",
   "metadata": {},
   "outputs": [],
   "source": [
    "def draw_history(history):\n",
    "    plt.plot(history, label=\"train\")\n",
    "    plt.legend()\n",
    "    plt.show()\n",
    "\n",
    "\n",
    "def train(\n",
    "    model, device, optimizer, criterion, epochs, train_loader) -> dict:\n",
    "    \"\"\"\n",
    "    :param model: your model\n",
    "    :param device: your device(cuda or cpu)\n",
    "    :param optimizer: your optimizer\n",
    "    :param criterion: loss function\n",
    "    :param epoch: train epochs\n",
    "    :param train_loader: train dataset\n",
    "    :param valid_loader: valid dataset\n",
    "    :return: history dictionary that contains train_loss, train_acc, valid_loss, valid_acc as list\n",
    "    \"\"\"\n",
    "    history = []\n",
    "    model.to(device)\n",
    "    for epoch in range(1, epochs + 1):\n",
    "        model.train()\n",
    "        train_loss = 0\n",
    "        \n",
    "        pbar = tqdm(enumerate(train_loader), file=sys.stdout)\n",
    "        for batch_idx, data in pbar:\n",
    "            data = data.to(device)\n",
    "\n",
    "            optimizer.zero_grad()\n",
    "            output = model(data)\n",
    "            loss = criterion(output, data)\n",
    "            loss.backward()\n",
    "            optimizer.step()\n",
    "\n",
    "            train_loss += loss.item()\n",
    "            pbar.set_postfix(epoch=f\"{epoch}/{epochs}\", loss=\"{:.6f}\".format(loss))\n",
    "        pbar.close()\n",
    "\n",
    "        train_loss = train_loss / len(train_loader)\n",
    "        history.append(train_loss)\n",
    "\n",
    "    return history"
   ]
  },
  {
   "cell_type": "code",
   "execution_count": 4,
   "id": "1070995e",
   "metadata": {},
   "outputs": [],
   "source": [
    "class MyDataset(Dataset):\n",
    "    def __init__(self, npy_path='../data/embed_768.npy'):\n",
    "        super(MyDataset, self).__init__()\n",
    "\n",
    "        self.data = np.load(npy_path)\n",
    "\n",
    "    def __len__(self):\n",
    "        return len(self.data)\n",
    "\n",
    "    def __getitem__(self, idx):\n",
    "        x = torch.FloatTensor(self.data[idx])\n",
    "        return x"
   ]
  },
  {
   "cell_type": "code",
   "execution_count": 5,
   "id": "1b9b29b1",
   "metadata": {},
   "outputs": [],
   "source": [
    "myDataset = MyDataset('../data/embed_768.npy')\n",
    "data_loader = DataLoader(myDataset, batch_size=64)"
   ]
  },
  {
   "cell_type": "markdown",
   "id": "cf965a43",
   "metadata": {},
   "source": [
    "## 768 -> 512"
   ]
  },
  {
   "cell_type": "code",
   "execution_count": 8,
   "id": "da97feeb",
   "metadata": {},
   "outputs": [
    {
     "name": "stdout",
     "output_type": "stream",
     "text": [
      "----------------------------------------------------------------\n",
      "        Layer (type)               Output Shape         Param #\n",
      "================================================================\n",
      "            Linear-1                  [-1, 512]         393,728\n",
      "              ReLU-2                  [-1, 512]               0\n",
      "            Linear-3                  [-1, 768]         393,984\n",
      "================================================================\n",
      "Total params: 787,712\n",
      "Trainable params: 787,712\n",
      "Non-trainable params: 0\n",
      "----------------------------------------------------------------\n",
      "Input size (MB): 0.00\n",
      "Forward/backward pass size (MB): 0.01\n",
      "Params size (MB): 3.00\n",
      "Estimated Total Size (MB): 3.02\n",
      "----------------------------------------------------------------\n"
     ]
    }
   ],
   "source": [
    "model = MyAE_512().cuda()\n",
    "device = \"cuda\" if torch.cuda.is_available() else \"cpu\"\n",
    "optimizer = torch.optim.AdamW(model.parameters())\n",
    "criterion = torch.nn.MSELoss()\n",
    "\n",
    "summary(model, input_size=(768,), device=\"cuda\")"
   ]
  },
  {
   "cell_type": "code",
   "execution_count": 9,
   "id": "2803b67a",
   "metadata": {},
   "outputs": [
    {
     "name": "stdout",
     "output_type": "stream",
     "text": [
      "============================= Train =============================\n",
      "1985it [00:05, 380.63it/s, epoch=1/20, loss=0.012225]\n",
      "1985it [00:05, 352.54it/s, epoch=2/20, loss=0.013503]\n",
      "1985it [00:05, 346.90it/s, epoch=3/20, loss=0.012547]\n",
      "1985it [00:05, 340.87it/s, epoch=4/20, loss=0.013631]\n",
      "1985it [00:05, 356.94it/s, epoch=5/20, loss=0.013895]\n",
      "1985it [00:05, 353.97it/s, epoch=6/20, loss=0.011991]\n",
      "1985it [00:05, 354.33it/s, epoch=7/20, loss=0.012987]\n",
      "1985it [00:05, 357.10it/s, epoch=8/20, loss=0.014219]\n",
      "1985it [00:05, 358.59it/s, epoch=9/20, loss=0.013346]\n",
      "1985it [00:05, 348.44it/s, epoch=10/20, loss=0.013139]\n",
      "1985it [00:05, 346.04it/s, epoch=11/20, loss=0.013727]\n",
      "1985it [00:05, 353.37it/s, epoch=12/20, loss=0.012408]\n",
      "1985it [00:05, 355.50it/s, epoch=13/20, loss=0.012864]\n",
      "1985it [00:05, 356.76it/s, epoch=14/20, loss=0.012738]\n",
      "1985it [00:05, 357.00it/s, epoch=15/20, loss=0.013039]\n",
      "1985it [00:05, 356.05it/s, epoch=16/20, loss=0.013416]\n",
      "1985it [00:05, 350.74it/s, epoch=17/20, loss=0.012632]\n",
      "1985it [00:05, 353.98it/s, epoch=18/20, loss=0.012848]\n",
      "1985it [00:05, 354.89it/s, epoch=19/20, loss=0.012758]\n",
      "1985it [00:05, 354.64it/s, epoch=20/20, loss=0.012341]\n"
     ]
    }
   ],
   "source": [
    "# train\n",
    "print(\"============================= Train =============================\")\n",
    "history = train(model, device, optimizer, criterion, 20, data_loader)"
   ]
  },
  {
   "cell_type": "code",
   "execution_count": 10,
   "id": "7604b8dc",
   "metadata": {},
   "outputs": [
    {
     "data": {
      "image/png": "[encoded data removed]",
      "text/plain": [
       "<Figure size 432x288 with 1 Axes>"
      ]
     },
     "metadata": {
      "needs_background": "light"
     },
     "output_type": "display_data"
    }
   ],
   "source": [
    "draw_history(history)"
   ]
  },
  {
   "cell_type": "code",
   "execution_count": 11,
   "id": "63c62a1a",
   "metadata": {},
   "outputs": [],
   "source": [
    "torch.save(model, 'AE512.pt')"
   ]
  },
  {
   "cell_type": "code",
   "execution_count": 12,
   "id": "3e714813",
   "metadata": {},
   "outputs": [
    {
     "name": "stdout",
     "output_type": "stream",
     "text": [
      "torch.Size([127036, 512])\n",
      "(127036, 512)\n"
     ]
    }
   ],
   "source": [
    "embed = torch.FloatTensor(myDataset.data)\n",
    "model.cpu()\n",
    "with torch.no_grad():\n",
    "    embed_512 = model.encode(embed)\n",
    "    embed_512_np = embed_512.numpy()\n",
    "\n",
    "print(embed_512.shape)\n",
    "print(embed_512_np.shape)\n",
    "\n",
    "np.save('../data/embed_512.npy', embed_512_np)"
   ]
  },
  {
   "cell_type": "markdown",
   "id": "8a718e9d",
   "metadata": {},
   "source": [
    "## 768 -> 256"
   ]
  },
  {
   "cell_type": "code",
   "execution_count": 13,
   "id": "f9319f65",
   "metadata": {},
   "outputs": [
    {
     "name": "stdout",
     "output_type": "stream",
     "text": [
      "----------------------------------------------------------------\n",
      "        Layer (type)               Output Shape         Param #\n",
      "================================================================\n",
      "            Linear-1                  [-1, 256]         196,864\n",
      "              ReLU-2                  [-1, 256]               0\n",
      "            Linear-3                  [-1, 768]         197,376\n",
      "================================================================\n",
      "Total params: 394,240\n",
      "Trainable params: 394,240\n",
      "Non-trainable params: 0\n",
      "----------------------------------------------------------------\n",
      "Input size (MB): 0.00\n",
      "Forward/backward pass size (MB): 0.01\n",
      "Params size (MB): 1.50\n",
      "Estimated Total Size (MB): 1.52\n",
      "----------------------------------------------------------------\n"
     ]
    }
   ],
   "source": [
    "model = MyAE_256().cuda()\n",
    "device = \"cuda\" if torch.cuda.is_available() else \"cpu\"\n",
    "optimizer = torch.optim.AdamW(model.parameters())\n",
    "criterion = torch.nn.MSELoss()\n",
    "\n",
    "summary(model, input_size=(768,), device=\"cuda\")"
   ]
  },
  {
   "cell_type": "code",
   "execution_count": 14,
   "id": "c5c31246",
   "metadata": {},
   "outputs": [
    {
     "name": "stdout",
     "output_type": "stream",
     "text": [
      "============================= Train =============================\n",
      "1985it [00:05, 338.36it/s, epoch=1/20, loss=0.017932]\n",
      "1985it [00:06, 319.10it/s, epoch=2/20, loss=0.018034]\n",
      "1985it [00:05, 332.71it/s, epoch=3/20, loss=0.016974]\n",
      "1985it [00:05, 350.77it/s, epoch=4/20, loss=0.016773]\n",
      "1985it [00:05, 356.56it/s, epoch=5/20, loss=0.017871]\n",
      "1985it [00:05, 361.71it/s, epoch=6/20, loss=0.017264]\n",
      "1985it [00:05, 368.30it/s, epoch=7/20, loss=0.017094]\n",
      "1985it [00:05, 365.79it/s, epoch=8/20, loss=0.017582]\n",
      "1985it [00:05, 355.68it/s, epoch=9/20, loss=0.017769]\n",
      "1985it [00:05, 355.59it/s, epoch=10/20, loss=0.018265]\n",
      "1985it [00:05, 355.60it/s, epoch=11/20, loss=0.018271]\n",
      "1985it [00:05, 356.58it/s, epoch=12/20, loss=0.018205]\n",
      "1985it [00:05, 358.21it/s, epoch=13/20, loss=0.017879]\n",
      "1985it [00:05, 355.24it/s, epoch=14/20, loss=0.017930]\n",
      "1985it [00:05, 357.10it/s, epoch=15/20, loss=0.018491]\n",
      "1985it [00:05, 359.98it/s, epoch=16/20, loss=0.017887]\n",
      "1985it [00:05, 359.59it/s, epoch=17/20, loss=0.019075]\n",
      "1985it [00:05, 363.03it/s, epoch=18/20, loss=0.017247]\n",
      "1985it [00:05, 358.62it/s, epoch=19/20, loss=0.018137]\n",
      "1985it [00:05, 360.47it/s, epoch=20/20, loss=0.018081]\n"
     ]
    }
   ],
   "source": [
    "# train\n",
    "print(\"============================= Train =============================\")\n",
    "history = train(model, device, optimizer, criterion, 20, data_loader)"
   ]
  },
  {
   "cell_type": "code",
   "execution_count": 15,
   "id": "1e831e51",
   "metadata": {},
   "outputs": [
    {
     "data": {
      "image/png": "[encoded data removed]",
      "text/plain": [
       "<Figure size 432x288 with 1 Axes>"
      ]
     },
     "metadata": {
      "needs_background": "light"
     },
     "output_type": "display_data"
    }
   ],
   "source": [
    "draw_history(history)"
   ]
  },
  {
   "cell_type": "code",
   "execution_count": 16,
   "id": "309428eb",
   "metadata": {},
   "outputs": [],
   "source": [
    "torch.save(model, 'AE256.pt')"
   ]
  },
  {
   "cell_type": "code",
   "execution_count": 17,
   "id": "ce0091e7",
   "metadata": {},
   "outputs": [
    {
     "name": "stdout",
     "output_type": "stream",
     "text": [
      "torch.Size([127036, 256])\n",
      "(127036, 256)\n"
     ]
    }
   ],
   "source": [
    "embed = torch.FloatTensor(myDataset.data)\n",
    "model.cpu()\n",
    "with torch.no_grad():\n",
    "    embed_256 = model.encode(embed)\n",
    "    embed_256_np = embed_256.numpy()\n",
    "\n",
    "print(embed_256.shape)\n",
    "print(embed_256_np.shape)\n",
    "\n",
    "np.save('../data/embed_256.npy', embed_256_np)"
   ]
  },
  {
   "cell_type": "markdown",
   "id": "c87c7c1f",
   "metadata": {},
   "source": [
    "## 768 -> 128"
   ]
  },
  {
   "cell_type": "code",
   "execution_count": 18,
   "id": "1793f15c",
   "metadata": {},
   "outputs": [
    {
     "name": "stdout",
     "output_type": "stream",
     "text": [
      "----------------------------------------------------------------\n",
      "        Layer (type)               Output Shape         Param #\n",
      "================================================================\n",
      "            Linear-1                  [-1, 128]          98,432\n",
      "              ReLU-2                  [-1, 128]               0\n",
      "            Linear-3                  [-1, 768]          99,072\n",
      "================================================================\n",
      "Total params: 197,504\n",
      "Trainable params: 197,504\n",
      "Non-trainable params: 0\n",
      "----------------------------------------------------------------\n",
      "Input size (MB): 0.00\n",
      "Forward/backward pass size (MB): 0.01\n",
      "Params size (MB): 0.75\n",
      "Estimated Total Size (MB): 0.76\n",
      "----------------------------------------------------------------\n"
     ]
    }
   ],
   "source": [
    "model = MyAE_128().cuda()\n",
    "device = \"cuda\" if torch.cuda.is_available() else \"cpu\"\n",
    "optimizer = torch.optim.AdamW(model.parameters())\n",
    "criterion = torch.nn.MSELoss()\n",
    "\n",
    "summary(model, input_size=(768,), device=\"cuda\")"
   ]
  },
  {
   "cell_type": "code",
   "execution_count": 19,
   "id": "20b50ecf",
   "metadata": {},
   "outputs": [
    {
     "name": "stdout",
     "output_type": "stream",
     "text": [
      "============================= Train =============================\n",
      "1985it [00:05, 383.43it/s, epoch=1/20, loss=0.033134]\n",
      "1985it [00:05, 383.64it/s, epoch=2/20, loss=0.032380]\n",
      "1985it [00:05, 364.24it/s, epoch=3/20, loss=0.032802]\n",
      "1985it [00:05, 350.52it/s, epoch=4/20, loss=0.032663]\n",
      "1985it [00:05, 375.72it/s, epoch=5/20, loss=0.031806]\n",
      "1985it [00:05, 371.98it/s, epoch=6/20, loss=0.032695]\n",
      "1985it [00:05, 370.02it/s, epoch=7/20, loss=0.032961]\n",
      "1985it [00:05, 366.02it/s, epoch=8/20, loss=0.032199]\n",
      "1985it [00:05, 349.66it/s, epoch=9/20, loss=0.032893]\n",
      "1985it [00:05, 337.02it/s, epoch=10/20, loss=0.032418]\n",
      "1985it [00:05, 360.75it/s, epoch=11/20, loss=0.033228]\n",
      "1985it [00:05, 368.40it/s, epoch=12/20, loss=0.032632]\n",
      "1985it [00:05, 364.00it/s, epoch=13/20, loss=0.032808]\n",
      "1985it [00:05, 346.64it/s, epoch=14/20, loss=0.032392]\n",
      "1985it [00:05, 348.07it/s, epoch=15/20, loss=0.032614]\n",
      "1985it [00:05, 354.08it/s, epoch=16/20, loss=0.032119]\n",
      "1985it [00:05, 350.80it/s, epoch=17/20, loss=0.033782]\n",
      "1985it [00:05, 344.01it/s, epoch=18/20, loss=0.033089]\n",
      "1985it [00:05, 338.37it/s, epoch=19/20, loss=0.032825]\n",
      "1985it [00:05, 350.08it/s, epoch=20/20, loss=0.032354]\n"
     ]
    }
   ],
   "source": [
    "# train\n",
    "print(\"============================= Train =============================\")\n",
    "history = train(model, device, optimizer, criterion, 20, data_loader)"
   ]
  },
  {
   "cell_type": "code",
   "execution_count": 20,
   "id": "7430f14e",
   "metadata": {},
   "outputs": [
    {
     "data": {
      "image/png": "[encoded data removed]",
      "text/plain": [
       "<Figure size 432x288 with 1 Axes>"
      ]
     },
     "metadata": {
      "needs_background": "light"
     },
     "output_type": "display_data"
    }
   ],
   "source": [
    "draw_history(history)"
   ]
  },
  {
   "cell_type": "code",
   "execution_count": 21,
   "id": "6c191124",
   "metadata": {},
   "outputs": [],
   "source": [
    "torch.save(model, 'AE128.pt')"
   ]
  },
  {
   "cell_type": "code",
   "execution_count": 22,
   "id": "e3e2aaa4",
   "metadata": {},
   "outputs": [
    {
     "name": "stdout",
     "output_type": "stream",
     "text": [
      "torch.Size([127036, 128])\n",
      "(127036, 128)\n"
     ]
    }
   ],
   "source": [
    "embed = torch.FloatTensor(myDataset.data)\n",
    "model.cpu()\n",
    "with torch.no_grad():\n",
    "    embed_128 = model.encode(embed)\n",
    "    embed_128_np = embed_128.numpy()\n",
    "\n",
    "print(embed_128.shape)\n",
    "print(embed_128_np.shape)\n",
    "\n",
    "np.save('../data/embed_128.npy', embed_128_np)"
   ]
  },
  {
   "cell_type": "markdown",
   "id": "c79a7835",
   "metadata": {},
   "source": [
    "## 768 -> 64"
   ]
  },
  {
   "cell_type": "code",
   "execution_count": 6,
   "id": "fb31f53e",
   "metadata": {},
   "outputs": [
    {
     "name": "stdout",
     "output_type": "stream",
     "text": [
      "----------------------------------------------------------------\n",
      "        Layer (type)               Output Shape         Param #\n",
      "================================================================\n",
      "            Linear-1                   [-1, 64]          49,216\n",
      "              ReLU-2                   [-1, 64]               0\n",
      "            Linear-3                  [-1, 768]          49,920\n",
      "================================================================\n",
      "Total params: 99,136\n",
      "Trainable params: 99,136\n",
      "Non-trainable params: 0\n",
      "----------------------------------------------------------------\n",
      "Input size (MB): 0.00\n",
      "Forward/backward pass size (MB): 0.01\n",
      "Params size (MB): 0.38\n",
      "Estimated Total Size (MB): 0.39\n",
      "----------------------------------------------------------------\n"
     ]
    }
   ],
   "source": [
    "model = MyAE_64().cuda()\n",
    "device = \"cuda\" if torch.cuda.is_available() else \"cpu\"\n",
    "optimizer = torch.optim.AdamW(model.parameters())\n",
    "criterion = torch.nn.MSELoss()\n",
    "\n",
    "summary(model, input_size=(768,), device=\"cuda\")"
   ]
  },
  {
   "cell_type": "code",
   "execution_count": 7,
   "id": "62671ba4",
   "metadata": {},
   "outputs": [
    {
     "name": "stdout",
     "output_type": "stream",
     "text": [
      "============================= Train =============================\n",
      "1985it [00:05, 363.10it/s, epoch=1/20, loss=0.047402]\n",
      "1985it [00:06, 316.98it/s, epoch=2/20, loss=0.047289]\n",
      "1985it [00:06, 312.34it/s, epoch=3/20, loss=0.046668]\n",
      "1985it [00:05, 335.28it/s, epoch=4/20, loss=0.047111]\n",
      "1985it [00:05, 333.40it/s, epoch=5/20, loss=0.047495]\n",
      "1985it [00:05, 368.37it/s, epoch=6/20, loss=0.046556]\n",
      "1985it [00:05, 344.92it/s, epoch=7/20, loss=0.047527]\n",
      "1985it [00:05, 350.34it/s, epoch=8/20, loss=0.046969]\n",
      "1985it [00:05, 340.19it/s, epoch=9/20, loss=0.046825]\n",
      "1985it [00:05, 332.75it/s, epoch=10/20, loss=0.047873]\n",
      "1985it [00:06, 327.96it/s, epoch=11/20, loss=0.047473]\n",
      "1985it [00:06, 326.81it/s, epoch=12/20, loss=0.047647]\n",
      "1985it [00:05, 338.95it/s, epoch=13/20, loss=0.047828]\n",
      "1985it [00:05, 330.94it/s, epoch=14/20, loss=0.047459]\n",
      "1985it [00:06, 329.13it/s, epoch=15/20, loss=0.048179]\n",
      "1985it [00:06, 308.45it/s, epoch=16/20, loss=0.048336]\n",
      "1985it [00:06, 321.90it/s, epoch=17/20, loss=0.048009]\n",
      "1985it [00:05, 346.57it/s, epoch=18/20, loss=0.047717]\n",
      "1985it [00:06, 329.34it/s, epoch=19/20, loss=0.047399]\n",
      "1985it [00:05, 360.45it/s, epoch=20/20, loss=0.047962]\n"
     ]
    }
   ],
   "source": [
    "# train\n",
    "print(\"============================= Train =============================\")\n",
    "history = train(model, device, optimizer, criterion, 20, data_loader)"
   ]
  },
  {
   "cell_type": "code",
   "execution_count": 8,
   "id": "c5e560f8",
   "metadata": {},
   "outputs": [
    {
     "data": {
      "image/png": "[encoded data removed]",
      "text/plain": [
       "<Figure size 432x288 with 1 Axes>"
      ]
     },
     "metadata": {
      "needs_background": "light"
     },
     "output_type": "display_data"
    }
   ],
   "source": [
    "draw_history(history)"
   ]
  },
  {
   "cell_type": "code",
   "execution_count": 9,
   "id": "5ba2145a",
   "metadata": {},
   "outputs": [],
   "source": [
    "torch.save(model, 'AE64.pt')"
   ]
  },
  {
   "cell_type": "code",
   "execution_count": 10,
   "id": "4f078f73",
   "metadata": {},
   "outputs": [
    {
     "name": "stdout",
     "output_type": "stream",
     "text": [
      "torch.Size([127036, 64])\n",
      "(127036, 64)\n"
     ]
    }
   ],
   "source": [
    "embed = torch.FloatTensor(myDataset.data)\n",
    "model.cpu()\n",
    "with torch.no_grad():\n",
    "    embed_64 = model.encode(embed)\n",
    "    embed_64_np = embed_64.numpy()\n",
    "\n",
    "print(embed_64.shape)\n",
    "print(embed_64_np.shape)\n",
    "\n",
    "np.save('../data/embed_64.npy', embed_64_np)"
   ]
  },
  {
   "cell_type": "code",
   "execution_count": null,
   "id": "ae3d3415",
   "metadata": {},
   "outputs": [],
   "source": []
  }
 ],
 "metadata": {
  "kernelspec": {
   "display_name": "Python 3 (ipykernel)",
   "language": "python",
   "name": "python3"
  },
  "language_info": {
   "codemirror_mode": {
    "name": "ipython",
    "version": 3
   },
   "file_extension": ".py",
   "mimetype": "text/x-python",
   "name": "python",
   "nbconvert_exporter": "python",
   "pygments_lexer": "ipython3",
   "version": "3.8.8"
  }
 },
 "nbformat": 4,
 "nbformat_minor": 5
}
